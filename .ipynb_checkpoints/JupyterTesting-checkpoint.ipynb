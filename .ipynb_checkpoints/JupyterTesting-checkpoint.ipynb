{
 "cells": [
  {
   "cell_type": "code",
   "execution_count": 3,
   "id": "4a8933f5-d02a-479d-99f3-c27666949327",
   "metadata": {},
   "outputs": [],
   "source": [
    "import pandas as pd\n",
    "df = pd.read_excel(\"TestDataSet.xlsx\")"
   ]
  },
  {
   "cell_type": "code",
   "execution_count": 4,
   "id": "052e17a2-8f03-4099-ba9c-32f95fab8697",
   "metadata": {},
   "outputs": [
    {
     "data": {
      "text/html": [
       "<div>\n",
       "<style scoped>\n",
       "    .dataframe tbody tr th:only-of-type {\n",
       "        vertical-align: middle;\n",
       "    }\n",
       "\n",
       "    .dataframe tbody tr th {\n",
       "        vertical-align: top;\n",
       "    }\n",
       "\n",
       "    .dataframe thead th {\n",
       "        text-align: right;\n",
       "    }\n",
       "</style>\n",
       "<table border=\"1\" class=\"dataframe\">\n",
       "  <thead>\n",
       "    <tr style=\"text-align: right;\">\n",
       "      <th></th>\n",
       "      <th>Subject</th>\n",
       "      <th>Slots</th>\n",
       "    </tr>\n",
       "  </thead>\n",
       "  <tbody>\n",
       "    <tr>\n",
       "      <th>0</th>\n",
       "      <td>Java</td>\n",
       "      <td>{(31,32),(39,40),(45,46),(59,60)}</td>\n",
       "    </tr>\n",
       "    <tr>\n",
       "      <th>1</th>\n",
       "      <td>DSA</td>\n",
       "      <td>{(31,32),(35,36),(41,42)}</td>\n",
       "    </tr>\n",
       "    <tr>\n",
       "      <th>2</th>\n",
       "      <td>English</td>\n",
       "      <td>{(51,52),(39,40),(41,42)}</td>\n",
       "    </tr>\n",
       "    <tr>\n",
       "      <th>3</th>\n",
       "      <td>DSD</td>\n",
       "      <td>{(45,46),(51,52),(31,32)}</td>\n",
       "    </tr>\n",
       "  </tbody>\n",
       "</table>\n",
       "</div>"
      ],
      "text/plain": [
       "   Subject                              Slots\n",
       "0     Java  {(31,32),(39,40),(45,46),(59,60)}\n",
       "1      DSA          {(31,32),(35,36),(41,42)}\n",
       "2  English          {(51,52),(39,40),(41,42)}\n",
       "3      DSD          {(45,46),(51,52),(31,32)}"
      ]
     },
     "execution_count": 4,
     "metadata": {},
     "output_type": "execute_result"
    }
   ],
   "source": [
    "df.head()"
   ]
  },
  {
   "cell_type": "code",
   "execution_count": 9,
   "id": "e98ace9c-aa86-44bf-9952-7f5e448de181",
   "metadata": {},
   "outputs": [
    {
     "name": "stdout",
     "output_type": "stream",
     "text": [
      "Index(['Subject', 'Slots'], dtype='object')\n"
     ]
    }
   ],
   "source": [
    "print(df.columns)"
   ]
  },
  {
   "cell_type": "code",
   "execution_count": 10,
   "id": "468aaf33-311d-4cb7-bda1-3e50931c3a73",
   "metadata": {},
   "outputs": [
    {
     "name": "stdout",
     "output_type": "stream",
     "text": [
      "0       Java\n",
      "1        DSA\n",
      "2    English\n",
      "3        DSD\n",
      "Name: Subject, dtype: object\n"
     ]
    }
   ],
   "source": [
    "print(df['Subject'])"
   ]
  },
  {
   "cell_type": "code",
   "execution_count": 16,
   "id": "c5ebae06-9943-412e-adfe-ff037d4273f7",
   "metadata": {},
   "outputs": [
    {
     "name": "stdout",
     "output_type": "stream",
     "text": [
      "Subject                          DSA\n",
      "Slots      {(31,32),(35,36),(41,42)}\n",
      "Name: 1, dtype: object\n"
     ]
    }
   ],
   "source": [
    "print(df.iloc[1])"
   ]
  },
  {
   "cell_type": "code",
   "execution_count": 17,
   "id": "414ddb6c-bef3-40fe-b64a-4737310af7b8",
   "metadata": {},
   "outputs": [
    {
     "name": "stdout",
     "output_type": "stream",
     "text": [
      "{(31,32),(35,36),(41,42)}\n"
     ]
    },
    {
     "name": "stderr",
     "output_type": "stream",
     "text": [
      "C:\\Users\\imrit\\AppData\\Local\\Temp\\ipykernel_28776\\2687260098.py:1: FutureWarning: Series.__getitem__ treating keys as positions is deprecated. In a future version, integer keys will always be treated as labels (consistent with DataFrame behavior). To access a value by position, use `ser.iloc[pos]`\n",
      "  print(df.iloc[1][1])\n"
     ]
    }
   ],
   "source": [
    "print(df.iloc[1][1])"
   ]
  },
  {
   "cell_type": "code",
   "execution_count": 18,
   "id": "319bfe7c-e925-4cbe-8898-65356f8d868a",
   "metadata": {},
   "outputs": [
    {
     "name": "stdout",
     "output_type": "stream",
     "text": [
      "{(31,32),(39,40),(45,46),(59,60)}\n"
     ]
    },
    {
     "name": "stderr",
     "output_type": "stream",
     "text": [
      "C:\\Users\\imrit\\AppData\\Local\\Temp\\ipykernel_28776\\134252878.py:1: FutureWarning: Series.__getitem__ treating keys as positions is deprecated. In a future version, integer keys will always be treated as labels (consistent with DataFrame behavior). To access a value by position, use `ser.iloc[pos]`\n",
      "  print(df.iloc[0][1])\n"
     ]
    }
   ],
   "source": [
    "print(df.iloc[0][1])"
   ]
  },
  {
   "cell_type": "code",
   "execution_count": 19,
   "id": "1d3d2798-5742-4e6e-9519-f0d13a18799b",
   "metadata": {},
   "outputs": [
    {
     "name": "stdout",
     "output_type": "stream",
     "text": [
      "Java\n"
     ]
    },
    {
     "name": "stderr",
     "output_type": "stream",
     "text": [
      "C:\\Users\\imrit\\AppData\\Local\\Temp\\ipykernel_28776\\2561436513.py:1: FutureWarning: Series.__getitem__ treating keys as positions is deprecated. In a future version, integer keys will always be treated as labels (consistent with DataFrame behavior). To access a value by position, use `ser.iloc[pos]`\n",
      "  print(df.iloc[0][0])\n"
     ]
    }
   ],
   "source": [
    "print(df.iloc[0][0])"
   ]
  },
  {
   "cell_type": "code",
   "execution_count": 21,
   "id": "db267cbb-3cb3-48d6-a665-36d2f45b691b",
   "metadata": {},
   "outputs": [
    {
     "name": "stdout",
     "output_type": "stream",
     "text": [
      "Java\n",
      "DSA\n",
      "English\n",
      "DSD\n"
     ]
    },
    {
     "name": "stderr",
     "output_type": "stream",
     "text": [
      "C:\\Users\\imrit\\AppData\\Local\\Temp\\ipykernel_28776\\3004141486.py:2: FutureWarning: Series.__getitem__ treating keys as positions is deprecated. In a future version, integer keys will always be treated as labels (consistent with DataFrame behavior). To access a value by position, use `ser.iloc[pos]`\n",
      "  print(row[0])\n"
     ]
    }
   ],
   "source": [
    "for index,row in df.iterrows():\n",
    "    print(row[0])"
   ]
  },
  {
   "cell_type": "code",
   "execution_count": 22,
   "id": "011ab2c7-d99d-44ce-8f47-6c5110196809",
   "metadata": {},
   "outputs": [
    {
     "name": "stdout",
     "output_type": "stream",
     "text": [
      "Java\n",
      "DSA\n",
      "English\n",
      "DSD\n"
     ]
    }
   ],
   "source": [
    "for i in range(len(df)):\n",
    "    print(df.iloc[i, 0])\n"
   ]
  },
  {
   "cell_type": "code",
   "execution_count": 25,
   "id": "4f06f03e-d4a4-4948-aaee-fd0de362980d",
   "metadata": {},
   "outputs": [],
   "source": [
    "list1 = []\n",
    "for i in range(len(df)):\n",
    "    list1.append(df.iloc[i,1])\n"
   ]
  },
  {
   "cell_type": "code",
   "execution_count": 26,
   "id": "c554e190-e0ef-4cd8-877d-4649ffab9fcf",
   "metadata": {},
   "outputs": [
    {
     "data": {
      "text/plain": [
       "[('{',\n",
       "  '(',\n",
       "  '3',\n",
       "  '1',\n",
       "  ',',\n",
       "  '3',\n",
       "  '2',\n",
       "  ')',\n",
       "  ',',\n",
       "  '(',\n",
       "  '3',\n",
       "  '9',\n",
       "  ',',\n",
       "  '4',\n",
       "  '0',\n",
       "  ')',\n",
       "  ',',\n",
       "  '(',\n",
       "  '4',\n",
       "  '5',\n",
       "  ',',\n",
       "  '4',\n",
       "  '6',\n",
       "  ')',\n",
       "  ',',\n",
       "  '(',\n",
       "  '5',\n",
       "  '9',\n",
       "  ',',\n",
       "  '6',\n",
       "  '0',\n",
       "  ')',\n",
       "  '}'),\n",
       " ('{',\n",
       "  '(',\n",
       "  '3',\n",
       "  '1',\n",
       "  ',',\n",
       "  '3',\n",
       "  '2',\n",
       "  ')',\n",
       "  ',',\n",
       "  '(',\n",
       "  '3',\n",
       "  '5',\n",
       "  ',',\n",
       "  '3',\n",
       "  '6',\n",
       "  ')',\n",
       "  ',',\n",
       "  '(',\n",
       "  '4',\n",
       "  '1',\n",
       "  ',',\n",
       "  '4',\n",
       "  '2',\n",
       "  ')',\n",
       "  '}'),\n",
       " ('{',\n",
       "  '(',\n",
       "  '5',\n",
       "  '1',\n",
       "  ',',\n",
       "  '5',\n",
       "  '2',\n",
       "  ')',\n",
       "  ',',\n",
       "  '(',\n",
       "  '3',\n",
       "  '9',\n",
       "  ',',\n",
       "  '4',\n",
       "  '0',\n",
       "  ')',\n",
       "  ',',\n",
       "  '(',\n",
       "  '4',\n",
       "  '1',\n",
       "  ',',\n",
       "  '4',\n",
       "  '2',\n",
       "  ')',\n",
       "  '}'),\n",
       " ('{',\n",
       "  '(',\n",
       "  '4',\n",
       "  '5',\n",
       "  ',',\n",
       "  '4',\n",
       "  '6',\n",
       "  ')',\n",
       "  ',',\n",
       "  '(',\n",
       "  '5',\n",
       "  '1',\n",
       "  ',',\n",
       "  '5',\n",
       "  '2',\n",
       "  ')',\n",
       "  ',',\n",
       "  '(',\n",
       "  '3',\n",
       "  '1',\n",
       "  ',',\n",
       "  '3',\n",
       "  '2',\n",
       "  ')',\n",
       "  '}')]"
      ]
     },
     "execution_count": 26,
     "metadata": {},
     "output_type": "execute_result"
    }
   ],
   "source": [
    "list1"
   ]
  },
  {
   "cell_type": "code",
   "execution_count": null,
   "id": "9ef09af1-6e6a-4ec9-ab51-14eb459ff447",
   "metadata": {},
   "outputs": [],
   "source": []
  }
 ],
 "metadata": {
  "kernelspec": {
   "display_name": "Python 3 (ipykernel)",
   "language": "python",
   "name": "python3"
  },
  "language_info": {
   "codemirror_mode": {
    "name": "ipython",
    "version": 3
   },
   "file_extension": ".py",
   "mimetype": "text/x-python",
   "name": "python",
   "nbconvert_exporter": "python",
   "pygments_lexer": "ipython3",
   "version": "3.12.4"
  }
 },
 "nbformat": 4,
 "nbformat_minor": 5
}
